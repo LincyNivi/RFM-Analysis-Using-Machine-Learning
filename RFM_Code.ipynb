{
  "cells": [
    {
      "cell_type": "markdown",
      "metadata": {
        "id": "view-in-github",
        "colab_type": "text"
      },
      "source": [
        "<a href=\"https://colab.research.google.com/github/LincyNivi/RFM-Analysis-Using-Machine-Learning/blob/main/RFM_Code.ipynb\" target=\"_parent\"><img src=\"https://colab.research.google.com/assets/colab-badge.svg\" alt=\"Open In Colab\"/></a>"
      ]
    },
    {
      "cell_type": "markdown",
      "metadata": {
        "id": "W_pE2U9ZJ2h0"
      },
      "source": [
        "# What is RFM Analysis?\n",
        "* RFM (Recency, Frequency, Monetary) analysis is a powerful technique used by businesses to segment and understand their customers based on their buying behavior.\n",
        "* It helps businesses identify their most valuable customers, understand their needs, and tailor marketing strategies to improve customer retention and loyalty.\n",
        "\n",
        "* In this tutorial, I'll walk you through the steps of performing RFM analysis with some practical examples."
      ]
    },
    {
      "cell_type": "markdown",
      "metadata": {
        "id": "jAIEsQ13J2h2"
      },
      "source": [
        "# Step 1: Data Preparation\n",
        "\n",
        "> To conduct RFM analysis, you'll need transactional data that includes the following information:\n",
        "\n",
        "1. Customer ID: A unique identifier for each customer.\n",
        "1. Transaction Date: The date when the customer made a purchase.\n",
        "1. Transaction Amount: The amount spent by the customer in that transaction."
      ]
    },
    {
      "cell_type": "markdown",
      "metadata": {
        "id": "KxmGRpmxJ2h2"
      },
      "source": [
        "# Step 2: Calculate RFM Metrics\n",
        "\n",
        "> Now, we'll calculate the RFM metrics for each customer:\n",
        "\n",
        "* Recency (R): The number of days since the customer's last purchase.\n",
        "* Frequency (F): The total number of transactions made by the customer.\n",
        "* Monetary Value (M): The total amount spent by the customer."
      ]
    },
    {
      "cell_type": "code",
      "execution_count": null,
      "metadata": {
        "colab": {
          "base_uri": "https://localhost:8080/",
          "height": 204
        },
        "id": "1yX-l8D0J2h3",
        "outputId": "c1565aef-df84-48ee-f284-839d10fa0690"
      },
      "outputs": [
        {
          "output_type": "execute_result",
          "data": {
            "text/plain": [
              "  Invoice StockCode                          Description  Quantity  \\\n",
              "0  489434     85048  15CM CHRISTMAS GLASS BALL 20 LIGHTS        12   \n",
              "1  489434    79323P                   PINK CHERRY LIGHTS        12   \n",
              "2  489434    79323W                  WHITE CHERRY LIGHTS        12   \n",
              "3  489434     22041         RECORD FRAME 7\" SINGLE SIZE         48   \n",
              "4  489434     21232       STRAWBERRY CERAMIC TRINKET BOX        24   \n",
              "\n",
              "          InvoiceDate  Price  Customer ID         Country  \n",
              "0 2009-12-01 07:45:00   6.95      13085.0  United Kingdom  \n",
              "1 2009-12-01 07:45:00   6.75      13085.0  United Kingdom  \n",
              "2 2009-12-01 07:45:00   6.75      13085.0  United Kingdom  \n",
              "3 2009-12-01 07:45:00   2.10      13085.0  United Kingdom  \n",
              "4 2009-12-01 07:45:00   1.25      13085.0  United Kingdom  "
            ],
            "text/html": [
              "\n",
              "  <div id=\"df-fc2c4a45-8dc9-4001-aeae-8297a4bbbab9\" class=\"colab-df-container\">\n",
              "    <div>\n",
              "<style scoped>\n",
              "    .dataframe tbody tr th:only-of-type {\n",
              "        vertical-align: middle;\n",
              "    }\n",
              "\n",
              "    .dataframe tbody tr th {\n",
              "        vertical-align: top;\n",
              "    }\n",
              "\n",
              "    .dataframe thead th {\n",
              "        text-align: right;\n",
              "    }\n",
              "</style>\n",
              "<table border=\"1\" class=\"dataframe\">\n",
              "  <thead>\n",
              "    <tr style=\"text-align: right;\">\n",
              "      <th></th>\n",
              "      <th>Invoice</th>\n",
              "      <th>StockCode</th>\n",
              "      <th>Description</th>\n",
              "      <th>Quantity</th>\n",
              "      <th>InvoiceDate</th>\n",
              "      <th>Price</th>\n",
              "      <th>Customer ID</th>\n",
              "      <th>Country</th>\n",
              "    </tr>\n",
              "  </thead>\n",
              "  <tbody>\n",
              "    <tr>\n",
              "      <th>0</th>\n",
              "      <td>489434</td>\n",
              "      <td>85048</td>\n",
              "      <td>15CM CHRISTMAS GLASS BALL 20 LIGHTS</td>\n",
              "      <td>12</td>\n",
              "      <td>2009-12-01 07:45:00</td>\n",
              "      <td>6.95</td>\n",
              "      <td>13085.0</td>\n",
              "      <td>United Kingdom</td>\n",
              "    </tr>\n",
              "    <tr>\n",
              "      <th>1</th>\n",
              "      <td>489434</td>\n",
              "      <td>79323P</td>\n",
              "      <td>PINK CHERRY LIGHTS</td>\n",
              "      <td>12</td>\n",
              "      <td>2009-12-01 07:45:00</td>\n",
              "      <td>6.75</td>\n",
              "      <td>13085.0</td>\n",
              "      <td>United Kingdom</td>\n",
              "    </tr>\n",
              "    <tr>\n",
              "      <th>2</th>\n",
              "      <td>489434</td>\n",
              "      <td>79323W</td>\n",
              "      <td>WHITE CHERRY LIGHTS</td>\n",
              "      <td>12</td>\n",
              "      <td>2009-12-01 07:45:00</td>\n",
              "      <td>6.75</td>\n",
              "      <td>13085.0</td>\n",
              "      <td>United Kingdom</td>\n",
              "    </tr>\n",
              "    <tr>\n",
              "      <th>3</th>\n",
              "      <td>489434</td>\n",
              "      <td>22041</td>\n",
              "      <td>RECORD FRAME 7\" SINGLE SIZE</td>\n",
              "      <td>48</td>\n",
              "      <td>2009-12-01 07:45:00</td>\n",
              "      <td>2.10</td>\n",
              "      <td>13085.0</td>\n",
              "      <td>United Kingdom</td>\n",
              "    </tr>\n",
              "    <tr>\n",
              "      <th>4</th>\n",
              "      <td>489434</td>\n",
              "      <td>21232</td>\n",
              "      <td>STRAWBERRY CERAMIC TRINKET BOX</td>\n",
              "      <td>24</td>\n",
              "      <td>2009-12-01 07:45:00</td>\n",
              "      <td>1.25</td>\n",
              "      <td>13085.0</td>\n",
              "      <td>United Kingdom</td>\n",
              "    </tr>\n",
              "  </tbody>\n",
              "</table>\n",
              "</div>\n",
              "    <div class=\"colab-df-buttons\">\n",
              "\n",
              "  <div class=\"colab-df-container\">\n",
              "    <button class=\"colab-df-convert\" onclick=\"convertToInteractive('df-fc2c4a45-8dc9-4001-aeae-8297a4bbbab9')\"\n",
              "            title=\"Convert this dataframe to an interactive table.\"\n",
              "            style=\"display:none;\">\n",
              "\n",
              "  <svg xmlns=\"http://www.w3.org/2000/svg\" height=\"24px\" viewBox=\"0 -960 960 960\">\n",
              "    <path d=\"M120-120v-720h720v720H120Zm60-500h600v-160H180v160Zm220 220h160v-160H400v160Zm0 220h160v-160H400v160ZM180-400h160v-160H180v160Zm440 0h160v-160H620v160ZM180-180h160v-160H180v160Zm440 0h160v-160H620v160Z\"/>\n",
              "  </svg>\n",
              "    </button>\n",
              "\n",
              "  <style>\n",
              "    .colab-df-container {\n",
              "      display:flex;\n",
              "      gap: 12px;\n",
              "    }\n",
              "\n",
              "    .colab-df-convert {\n",
              "      background-color: #E8F0FE;\n",
              "      border: none;\n",
              "      border-radius: 50%;\n",
              "      cursor: pointer;\n",
              "      display: none;\n",
              "      fill: #1967D2;\n",
              "      height: 32px;\n",
              "      padding: 0 0 0 0;\n",
              "      width: 32px;\n",
              "    }\n",
              "\n",
              "    .colab-df-convert:hover {\n",
              "      background-color: #E2EBFA;\n",
              "      box-shadow: 0px 1px 2px rgba(60, 64, 67, 0.3), 0px 1px 3px 1px rgba(60, 64, 67, 0.15);\n",
              "      fill: #174EA6;\n",
              "    }\n",
              "\n",
              "    .colab-df-buttons div {\n",
              "      margin-bottom: 4px;\n",
              "    }\n",
              "\n",
              "    [theme=dark] .colab-df-convert {\n",
              "      background-color: #3B4455;\n",
              "      fill: #D2E3FC;\n",
              "    }\n",
              "\n",
              "    [theme=dark] .colab-df-convert:hover {\n",
              "      background-color: #434B5C;\n",
              "      box-shadow: 0px 1px 3px 1px rgba(0, 0, 0, 0.15);\n",
              "      filter: drop-shadow(0px 1px 2px rgba(0, 0, 0, 0.3));\n",
              "      fill: #FFFFFF;\n",
              "    }\n",
              "  </style>\n",
              "\n",
              "    <script>\n",
              "      const buttonEl =\n",
              "        document.querySelector('#df-fc2c4a45-8dc9-4001-aeae-8297a4bbbab9 button.colab-df-convert');\n",
              "      buttonEl.style.display =\n",
              "        google.colab.kernel.accessAllowed ? 'block' : 'none';\n",
              "\n",
              "      async function convertToInteractive(key) {\n",
              "        const element = document.querySelector('#df-fc2c4a45-8dc9-4001-aeae-8297a4bbbab9');\n",
              "        const dataTable =\n",
              "          await google.colab.kernel.invokeFunction('convertToInteractive',\n",
              "                                                    [key], {});\n",
              "        if (!dataTable) return;\n",
              "\n",
              "        const docLinkHtml = 'Like what you see? Visit the ' +\n",
              "          '<a target=\"_blank\" href=https://colab.research.google.com/notebooks/data_table.ipynb>data table notebook</a>'\n",
              "          + ' to learn more about interactive tables.';\n",
              "        element.innerHTML = '';\n",
              "        dataTable['output_type'] = 'display_data';\n",
              "        await google.colab.output.renderOutput(dataTable, element);\n",
              "        const docLink = document.createElement('div');\n",
              "        docLink.innerHTML = docLinkHtml;\n",
              "        element.appendChild(docLink);\n",
              "      }\n",
              "    </script>\n",
              "  </div>\n",
              "\n",
              "\n",
              "<div id=\"df-445ac8b3-a099-418e-b74f-5114acaee3af\">\n",
              "  <button class=\"colab-df-quickchart\" onclick=\"quickchart('df-445ac8b3-a099-418e-b74f-5114acaee3af')\"\n",
              "            title=\"Suggest charts\"\n",
              "            style=\"display:none;\">\n",
              "\n",
              "<svg xmlns=\"http://www.w3.org/2000/svg\" height=\"24px\"viewBox=\"0 0 24 24\"\n",
              "     width=\"24px\">\n",
              "    <g>\n",
              "        <path d=\"M19 3H5c-1.1 0-2 .9-2 2v14c0 1.1.9 2 2 2h14c1.1 0 2-.9 2-2V5c0-1.1-.9-2-2-2zM9 17H7v-7h2v7zm4 0h-2V7h2v10zm4 0h-2v-4h2v4z\"/>\n",
              "    </g>\n",
              "</svg>\n",
              "  </button>\n",
              "\n",
              "<style>\n",
              "  .colab-df-quickchart {\n",
              "      --bg-color: #E8F0FE;\n",
              "      --fill-color: #1967D2;\n",
              "      --hover-bg-color: #E2EBFA;\n",
              "      --hover-fill-color: #174EA6;\n",
              "      --disabled-fill-color: #AAA;\n",
              "      --disabled-bg-color: #DDD;\n",
              "  }\n",
              "\n",
              "  [theme=dark] .colab-df-quickchart {\n",
              "      --bg-color: #3B4455;\n",
              "      --fill-color: #D2E3FC;\n",
              "      --hover-bg-color: #434B5C;\n",
              "      --hover-fill-color: #FFFFFF;\n",
              "      --disabled-bg-color: #3B4455;\n",
              "      --disabled-fill-color: #666;\n",
              "  }\n",
              "\n",
              "  .colab-df-quickchart {\n",
              "    background-color: var(--bg-color);\n",
              "    border: none;\n",
              "    border-radius: 50%;\n",
              "    cursor: pointer;\n",
              "    display: none;\n",
              "    fill: var(--fill-color);\n",
              "    height: 32px;\n",
              "    padding: 0;\n",
              "    width: 32px;\n",
              "  }\n",
              "\n",
              "  .colab-df-quickchart:hover {\n",
              "    background-color: var(--hover-bg-color);\n",
              "    box-shadow: 0 1px 2px rgba(60, 64, 67, 0.3), 0 1px 3px 1px rgba(60, 64, 67, 0.15);\n",
              "    fill: var(--button-hover-fill-color);\n",
              "  }\n",
              "\n",
              "  .colab-df-quickchart-complete:disabled,\n",
              "  .colab-df-quickchart-complete:disabled:hover {\n",
              "    background-color: var(--disabled-bg-color);\n",
              "    fill: var(--disabled-fill-color);\n",
              "    box-shadow: none;\n",
              "  }\n",
              "\n",
              "  .colab-df-spinner {\n",
              "    border: 2px solid var(--fill-color);\n",
              "    border-color: transparent;\n",
              "    border-bottom-color: var(--fill-color);\n",
              "    animation:\n",
              "      spin 1s steps(1) infinite;\n",
              "  }\n",
              "\n",
              "  @keyframes spin {\n",
              "    0% {\n",
              "      border-color: transparent;\n",
              "      border-bottom-color: var(--fill-color);\n",
              "      border-left-color: var(--fill-color);\n",
              "    }\n",
              "    20% {\n",
              "      border-color: transparent;\n",
              "      border-left-color: var(--fill-color);\n",
              "      border-top-color: var(--fill-color);\n",
              "    }\n",
              "    30% {\n",
              "      border-color: transparent;\n",
              "      border-left-color: var(--fill-color);\n",
              "      border-top-color: var(--fill-color);\n",
              "      border-right-color: var(--fill-color);\n",
              "    }\n",
              "    40% {\n",
              "      border-color: transparent;\n",
              "      border-right-color: var(--fill-color);\n",
              "      border-top-color: var(--fill-color);\n",
              "    }\n",
              "    60% {\n",
              "      border-color: transparent;\n",
              "      border-right-color: var(--fill-color);\n",
              "    }\n",
              "    80% {\n",
              "      border-color: transparent;\n",
              "      border-right-color: var(--fill-color);\n",
              "      border-bottom-color: var(--fill-color);\n",
              "    }\n",
              "    90% {\n",
              "      border-color: transparent;\n",
              "      border-bottom-color: var(--fill-color);\n",
              "    }\n",
              "  }\n",
              "</style>\n",
              "\n",
              "  <script>\n",
              "    async function quickchart(key) {\n",
              "      const quickchartButtonEl =\n",
              "        document.querySelector('#' + key + ' button');\n",
              "      quickchartButtonEl.disabled = true;  // To prevent multiple clicks.\n",
              "      quickchartButtonEl.classList.add('colab-df-spinner');\n",
              "      try {\n",
              "        const charts = await google.colab.kernel.invokeFunction(\n",
              "            'suggestCharts', [key], {});\n",
              "      } catch (error) {\n",
              "        console.error('Error during call to suggestCharts:', error);\n",
              "      }\n",
              "      quickchartButtonEl.classList.remove('colab-df-spinner');\n",
              "      quickchartButtonEl.classList.add('colab-df-quickchart-complete');\n",
              "    }\n",
              "    (() => {\n",
              "      let quickchartButtonEl =\n",
              "        document.querySelector('#df-445ac8b3-a099-418e-b74f-5114acaee3af button');\n",
              "      quickchartButtonEl.style.display =\n",
              "        google.colab.kernel.accessAllowed ? 'block' : 'none';\n",
              "    })();\n",
              "  </script>\n",
              "</div>\n",
              "\n",
              "    </div>\n",
              "  </div>\n"
            ],
            "application/vnd.google.colaboratory.intrinsic+json": {
              "type": "dataframe",
              "variable_name": "df"
            }
          },
          "metadata": {},
          "execution_count": 5
        }
      ],
      "source": [
        "import pandas as pd\n",
        "from datetime import datetime\n",
        "\n",
        "# Load the data\n",
        "df = pd.read_excel(\"/content/RFM.xlsx\")  ## reading the data\n",
        "df.head()  ## top 5 rows of data"
      ]
    },
    {
      "cell_type": "code",
      "execution_count": null,
      "metadata": {
        "id": "fqnGS8jYJ2h3",
        "outputId": "893555df-237b-4bc1-f11c-67f3921824d8",
        "colab": {
          "base_uri": "https://localhost:8080/",
          "height": 258
        }
      },
      "outputs": [
        {
          "output_type": "error",
          "ename": "AttributeError",
          "evalue": "'DataFrame' object has no attribute 'CustomerID'",
          "traceback": [
            "\u001b[0;31m---------------------------------------------------------------------------\u001b[0m",
            "\u001b[0;31mAttributeError\u001b[0m                            Traceback (most recent call last)",
            "\u001b[0;32m<ipython-input-4-fe2dc6ff88c0>\u001b[0m in \u001b[0;36m<cell line: 1>\u001b[0;34m()\u001b[0m\n\u001b[0;32m----> 1\u001b[0;31m \u001b[0mdf\u001b[0m\u001b[0;34m[\u001b[0m\u001b[0mdf\u001b[0m\u001b[0;34m.\u001b[0m\u001b[0mCustomerID\u001b[0m \u001b[0;34m==\u001b[0m \u001b[0;36m17850.0\u001b[0m\u001b[0;34m]\u001b[0m\u001b[0;34m\u001b[0m\u001b[0;34m\u001b[0m\u001b[0m\n\u001b[0m",
            "\u001b[0;32m/usr/local/lib/python3.10/dist-packages/pandas/core/generic.py\u001b[0m in \u001b[0;36m__getattr__\u001b[0;34m(self, name)\u001b[0m\n\u001b[1;32m   6202\u001b[0m         ):\n\u001b[1;32m   6203\u001b[0m             \u001b[0;32mreturn\u001b[0m \u001b[0mself\u001b[0m\u001b[0;34m[\u001b[0m\u001b[0mname\u001b[0m\u001b[0;34m]\u001b[0m\u001b[0;34m\u001b[0m\u001b[0;34m\u001b[0m\u001b[0m\n\u001b[0;32m-> 6204\u001b[0;31m         \u001b[0;32mreturn\u001b[0m \u001b[0mobject\u001b[0m\u001b[0;34m.\u001b[0m\u001b[0m__getattribute__\u001b[0m\u001b[0;34m(\u001b[0m\u001b[0mself\u001b[0m\u001b[0;34m,\u001b[0m \u001b[0mname\u001b[0m\u001b[0;34m)\u001b[0m\u001b[0;34m\u001b[0m\u001b[0;34m\u001b[0m\u001b[0m\n\u001b[0m\u001b[1;32m   6205\u001b[0m \u001b[0;34m\u001b[0m\u001b[0m\n\u001b[1;32m   6206\u001b[0m     \u001b[0;34m@\u001b[0m\u001b[0mfinal\u001b[0m\u001b[0;34m\u001b[0m\u001b[0;34m\u001b[0m\u001b[0m\n",
            "\u001b[0;31mAttributeError\u001b[0m: 'DataFrame' object has no attribute 'CustomerID'"
          ]
        }
      ],
      "source": [
        "df[df.CustomerID == 17850.0]"
      ]
    },
    {
      "cell_type": "code",
      "execution_count": null,
      "metadata": {
        "id": "evLE5U01J2h4",
        "outputId": "2fb3794f-149b-4ca7-cb9d-fee34a8690d4",
        "colab": {
          "base_uri": "https://localhost:8080/"
        }
      },
      "outputs": [
        {
          "output_type": "execute_result",
          "data": {
            "text/plain": [
              "(525461, 8)"
            ]
          },
          "metadata": {},
          "execution_count": 6
        }
      ],
      "source": [
        "df.shape ## rows, column"
      ]
    },
    {
      "cell_type": "code",
      "execution_count": null,
      "metadata": {
        "id": "NdFjclSsJ2h4",
        "outputId": "dd7150f6-54f6-4063-c50c-137aebbb49fb"
      },
      "outputs": [
        {
          "data": {
            "text/plain": [
              "4372"
            ]
          },
          "execution_count": 3,
          "metadata": {},
          "output_type": "execute_result"
        }
      ],
      "source": [
        "df.CustomerID.nunique()  ## nunique : gives the no of unique values in a column\n",
        "#df.CustomerID.unique()   ## unique : gives the unique values in a column\n",
        "#df.CustomerID.value_counts() ## value_counts : tells me how many times a value of a column is present in the table"
      ]
    },
    {
      "cell_type": "code",
      "execution_count": null,
      "metadata": {
        "id": "Q8TPMBOMJ2h4",
        "outputId": "790d1538-7034-460f-ce24-8e86b778844e"
      },
      "outputs": [
        {
          "name": "stdout",
          "output_type": "stream",
          "text": [
            "<class 'pandas.core.frame.DataFrame'>\n",
            "RangeIndex: 541910 entries, 0 to 541909\n",
            "Data columns (total 3 columns):\n",
            " #   Column             Non-Null Count   Dtype         \n",
            "---  ------             --------------   -----         \n",
            " 0   TransactionDate    541910 non-null  datetime64[ns]\n",
            " 1   TransactionAmount  541910 non-null  float64       \n",
            " 2   CustomerID         541910 non-null  float64       \n",
            "dtypes: datetime64[ns](1), float64(2)\n",
            "memory usage: 12.4 MB\n"
          ]
        }
      ],
      "source": [
        "df.info()\n",
        "\n",
        "## 541910 - 406830 ## null values in customer ID column"
      ]
    },
    {
      "cell_type": "code",
      "execution_count": null,
      "metadata": {
        "id": "9KhhPHtrJ2h5"
      },
      "outputs": [],
      "source": [
        "df.fillna(-1,inplace=True)"
      ]
    },
    {
      "cell_type": "code",
      "execution_count": null,
      "metadata": {
        "id": "wEIpgKq7J2h5",
        "outputId": "2c416108-d0fc-4809-8c26-94ff30212575"
      },
      "outputs": [
        {
          "data": {
            "text/html": [
              "<div>\n",
              "<style scoped>\n",
              "    .dataframe tbody tr th:only-of-type {\n",
              "        vertical-align: middle;\n",
              "    }\n",
              "\n",
              "    .dataframe tbody tr th {\n",
              "        vertical-align: top;\n",
              "    }\n",
              "\n",
              "    .dataframe thead th {\n",
              "        text-align: right;\n",
              "    }\n",
              "</style>\n",
              "<table border=\"1\" class=\"dataframe\">\n",
              "  <thead>\n",
              "    <tr style=\"text-align: right;\">\n",
              "      <th></th>\n",
              "      <th>TransactionAmount</th>\n",
              "      <th>CustomerID</th>\n",
              "    </tr>\n",
              "  </thead>\n",
              "  <tbody>\n",
              "    <tr>\n",
              "      <th>count</th>\n",
              "      <td>541910.000000</td>\n",
              "      <td>541910.000000</td>\n",
              "    </tr>\n",
              "    <tr>\n",
              "      <th>mean</th>\n",
              "      <td>4.611138</td>\n",
              "      <td>11476.727625</td>\n",
              "    </tr>\n",
              "    <tr>\n",
              "      <th>std</th>\n",
              "      <td>96.759765</td>\n",
              "      <td>6778.324352</td>\n",
              "    </tr>\n",
              "    <tr>\n",
              "      <th>min</th>\n",
              "      <td>-11062.060000</td>\n",
              "      <td>-1.000000</td>\n",
              "    </tr>\n",
              "    <tr>\n",
              "      <th>25%</th>\n",
              "      <td>1.250000</td>\n",
              "      <td>12352.000000</td>\n",
              "    </tr>\n",
              "    <tr>\n",
              "      <th>50%</th>\n",
              "      <td>2.080000</td>\n",
              "      <td>14382.000000</td>\n",
              "    </tr>\n",
              "    <tr>\n",
              "      <th>75%</th>\n",
              "      <td>4.130000</td>\n",
              "      <td>16255.000000</td>\n",
              "    </tr>\n",
              "    <tr>\n",
              "      <th>max</th>\n",
              "      <td>38970.000000</td>\n",
              "      <td>18287.000000</td>\n",
              "    </tr>\n",
              "  </tbody>\n",
              "</table>\n",
              "</div>"
            ],
            "text/plain": [
              "       TransactionAmount     CustomerID\n",
              "count      541910.000000  541910.000000\n",
              "mean            4.611138   11476.727625\n",
              "std            96.759765    6778.324352\n",
              "min        -11062.060000      -1.000000\n",
              "25%             1.250000   12352.000000\n",
              "50%             2.080000   14382.000000\n",
              "75%             4.130000   16255.000000\n",
              "max         38970.000000   18287.000000"
            ]
          },
          "execution_count": 23,
          "metadata": {},
          "output_type": "execute_result"
        }
      ],
      "source": [
        "df.describe()  ## basic statistical analysis of my numeric variables"
      ]
    },
    {
      "cell_type": "code",
      "execution_count": null,
      "metadata": {
        "id": "v9tYlKsGJ2h5"
      },
      "outputs": [],
      "source": [
        "# Convert TransactionDate to a datetime object\n",
        "\n",
        "df['TransactionDate'] = pd.to_datetime(df['TransactionDate'])"
      ]
    },
    {
      "cell_type": "code",
      "execution_count": null,
      "metadata": {
        "execution": {
          "iopub.execute_input": "2023-08-06T16:30:46.146046Z",
          "iopub.status.busy": "2023-08-06T16:30:46.145651Z",
          "iopub.status.idle": "2023-08-06T16:30:49.193935Z",
          "shell.execute_reply": "2023-08-06T16:30:49.192775Z",
          "shell.execute_reply.started": "2023-08-06T16:30:46.146016Z"
        },
        "id": "mu-YY6UdJ2h6",
        "outputId": "fc7e417b-02f0-4f83-cdc3-c28b39a28b49"
      },
      "outputs": [
        {
          "name": "stdout",
          "output_type": "stream",
          "text": [
            "            Recency  Frequency  Monetary\n",
            "CustomerID                              \n",
            "12346.0        4872          2      2.08\n",
            "12347.0        4549        182    481.21\n",
            "12348.0        4622         31    178.71\n",
            "12349.0        4565         73    605.10\n",
            "12350.0        4857         17     65.30\n"
          ]
        }
      ],
      "source": [
        "#5 mar 2023 , 7 jul 23, 8 oct 23 , 5 jan 2024 , 3 mar 2024  ---> max txn date : 3 mar 2024 :\n",
        "\n",
        "## 24 may 2024 - 3 mar 2024 : convert it to days ---> recency value\n",
        "\n",
        "\n",
        "# Calculate Recency, Frequency, and Monetary Value for each customer\n",
        "today = datetime(2024, 6, 21)   ## today's date to calculate the recency : recency = last order date - today's date\n",
        "\n",
        "rfm = df.groupby('CustomerID').agg({\n",
        "    'TransactionDate': lambda x: (today - x.max()).days,   ## give me the diff of max(txn date) of a customer & today's date\n",
        "    'CustomerID': 'count',      ### Frequency of the customer txn\n",
        "    'TransactionAmount': 'sum'  ### total spend of the customer\n",
        "})\n",
        "\n",
        "# Rename the columns for clarity\n",
        "rfm.rename(columns={\n",
        "    'TransactionDate': 'Recency',\n",
        "    'CustomerID': 'Frequency',\n",
        "    'TransactionAmount': 'Monetary'\n",
        "}, inplace=True)\n",
        "\n",
        "print(rfm.head())"
      ]
    },
    {
      "cell_type": "code",
      "execution_count": null,
      "metadata": {
        "id": "Qsfc2lLoJ2h6",
        "outputId": "7664fe10-18d6-4244-c58b-f6bea1e7e788"
      },
      "outputs": [
        {
          "data": {
            "text/html": [
              "<div>\n",
              "<style scoped>\n",
              "    .dataframe tbody tr th:only-of-type {\n",
              "        vertical-align: middle;\n",
              "    }\n",
              "\n",
              "    .dataframe tbody tr th {\n",
              "        vertical-align: top;\n",
              "    }\n",
              "\n",
              "    .dataframe thead th {\n",
              "        text-align: right;\n",
              "    }\n",
              "</style>\n",
              "<table border=\"1\" class=\"dataframe\">\n",
              "  <thead>\n",
              "    <tr style=\"text-align: right;\">\n",
              "      <th></th>\n",
              "      <th>TransactionDate</th>\n",
              "      <th>TransactionAmount</th>\n",
              "      <th>CustomerID</th>\n",
              "    </tr>\n",
              "  </thead>\n",
              "  <tbody>\n",
              "    <tr>\n",
              "      <th>61619</th>\n",
              "      <td>2011-01-18 10:01:00</td>\n",
              "      <td>1.04</td>\n",
              "      <td>12346.0</td>\n",
              "    </tr>\n",
              "    <tr>\n",
              "      <th>61624</th>\n",
              "      <td>2011-01-18 10:17:00</td>\n",
              "      <td>1.04</td>\n",
              "      <td>12346.0</td>\n",
              "    </tr>\n",
              "  </tbody>\n",
              "</table>\n",
              "</div>"
            ],
            "text/plain": [
              "          TransactionDate  TransactionAmount  CustomerID\n",
              "61619 2011-01-18 10:01:00               1.04     12346.0\n",
              "61624 2011-01-18 10:17:00               1.04     12346.0"
            ]
          },
          "execution_count": 9,
          "metadata": {},
          "output_type": "execute_result"
        }
      ],
      "source": [
        "df[df.CustomerID == 12346]  ## this particular customer"
      ]
    },
    {
      "cell_type": "code",
      "execution_count": null,
      "metadata": {
        "id": "fSWZ7Ak3J2h6",
        "outputId": "8b89ec35-3f55-43e3-ecee-c5d3f4f1dcee"
      },
      "outputs": [
        {
          "data": {
            "text/plain": [
              "13.311475409836065"
            ]
          },
          "execution_count": 18,
          "metadata": {},
          "output_type": "execute_result"
        }
      ],
      "source": [
        "x = 4872/366\n",
        "x"
      ]
    },
    {
      "cell_type": "code",
      "execution_count": null,
      "metadata": {
        "id": "Ue8NGuYYJ2h6",
        "outputId": "49abd533-68a1-4654-8dfb-9e220968e10c"
      },
      "outputs": [
        {
          "data": {
            "text/plain": [
              "(4372, 3)"
            ]
          },
          "execution_count": 19,
          "metadata": {},
          "output_type": "execute_result"
        }
      ],
      "source": [
        "rfm.shape  ## 4372 customers"
      ]
    },
    {
      "cell_type": "markdown",
      "metadata": {
        "id": "1YJyQ3bpJ2h7"
      },
      "source": [
        "# Step 3: RFM Segmentation\n",
        "\n",
        "> Next, we'll segment the customers based on their RFM scores.\n",
        "* To do this, we'll divide each RFM metric into quartiles (or any other relevant segments) to create meaningful segments."
      ]
    },
    {
      "cell_type": "code",
      "execution_count": null,
      "metadata": {
        "execution": {
          "iopub.execute_input": "2023-08-06T16:38:22.203947Z",
          "iopub.status.busy": "2023-08-06T16:38:22.203553Z",
          "iopub.status.idle": "2023-08-06T16:38:22.570677Z",
          "shell.execute_reply": "2023-08-06T16:38:22.569457Z",
          "shell.execute_reply.started": "2023-08-06T16:38:22.203917Z"
        },
        "id": "AI81Z62VJ2h7",
        "outputId": "ba7a768f-3767-41a2-b796-dc3352336c5f"
      },
      "outputs": [
        {
          "name": "stdout",
          "output_type": "stream",
          "text": [
            "            Recency  Frequency  Monetary RFM_Segment\n",
            "CustomerID                                          \n",
            "12346.0        4872          2      2.08         444\n",
            "12347.0        4549        182    481.21         111\n",
            "12348.0        4622         31    178.71         332\n",
            "12349.0        4565         73    605.10         221\n",
            "12350.0        4857         17     65.30         443\n"
          ]
        }
      ],
      "source": [
        "# Create quartiles for Recency, Frequency, and Monetary\n",
        "quantiles = rfm.quantile(q=[0.25, 0.5, 0.75])\n",
        "\n",
        "# Create a function to assign RFM scores and segments\n",
        "def rfm_segment(row):\n",
        "    r_score = 1 if row['Recency'] <= quantiles['Recency'][0.25] else 2 if row['Recency'] <= quantiles['Recency'][0.5] else 3 if row['Recency'] <= quantiles['Recency'][0.75] else 4\n",
        "    f_score = 4 if row['Frequency'] <= quantiles['Frequency'][0.25] else 3 if row['Frequency'] <= quantiles['Frequency'][0.5] else 2 if row['Frequency'] <= quantiles['Frequency'][0.75] else 1\n",
        "    m_score = 4 if row['Monetary'] <= quantiles['Monetary'][0.25] else 3 if row['Monetary'] <= quantiles['Monetary'][0.5] else 2 if row['Monetary'] <= quantiles['Monetary'][0.75] else 1\n",
        "    return str(r_score) + str(f_score) + str(m_score)\n",
        "\n",
        "## recency score is better if it is lower :\n",
        "## frequency score is better if it is lower :\n",
        "## monetary score is better if it is lower :\n",
        "\n",
        "#recency value : less , r score is best at 1\n",
        "#freqyency value : less , f score is best at 1\n",
        "#monetary value : less , m score is best at 1\n",
        "\n",
        "## best customer : 111 , worst customer : 444\n",
        "\n",
        "# Assign RFM scores and segments to each customer\n",
        "rfm['RFM_Segment'] = rfm.apply(rfm_segment, axis=1)\n",
        "print(rfm.head())"
      ]
    },
    {
      "cell_type": "code",
      "execution_count": null,
      "metadata": {
        "id": "zeIVBfpvJ2h7"
      },
      "outputs": [],
      "source": []
    },
    {
      "cell_type": "code",
      "execution_count": null,
      "metadata": {
        "id": "QKblE4PLJ2h7"
      },
      "outputs": [],
      "source": [
        "##   R     F     M\n",
        "A : 1/2 , 3/4 , 3/4\n",
        "B : 1/2 , 3/4 , 1/2\n",
        "C : 3/4 , 3/4 , 3/4\n",
        "D : 3/4 , 1/2 , 1/2"
      ]
    },
    {
      "cell_type": "code",
      "execution_count": null,
      "metadata": {
        "id": "qLTL_vTcJ2h8"
      },
      "outputs": [],
      "source": []
    },
    {
      "cell_type": "markdown",
      "metadata": {
        "id": "v8bc4m1EJ2h8"
      },
      "source": [
        "# Step 4: Interpretation of RFM Segments\n",
        "\n",
        "> Now that we have segmented the customers, we can interpret each segment based on their RFM scores:\n",
        "\n",
        "1. High-Value Customers: High Recency (1 or 2), High Frequency (3 or 4), and High Monetary Value (3 or 4).\n",
        "1. Potential Loyalists: High Recency (1 or 2), High Frequency (3 or 4), and Low Monetary Value (1 or 2).\n",
        "1. At Risk: Low Recency (3 or 4), High Frequency (3 or 4), and High Monetary Value (3 or 4).\n",
        "1. Lost Customers: Low Recency (3 or 4), Low Frequency (1 or 2), and Low Monetary Value (1 or 2)."
      ]
    },
    {
      "cell_type": "markdown",
      "metadata": {
        "id": "L72pxsNYJ2h9"
      },
      "source": [
        "# Step 5: Actionable Insights\n",
        "\n",
        "> Once we understand our RFM segments, we can tailor marketing strategies accordingly:\n",
        "\n",
        "1. High-Value Customers: Reward them with exclusive offers or loyalty programs to maintain their loyalty.\n",
        "1. Potential Loyalists: Encourage them to increase their spending with personalized offers or discounts.\n",
        "1. At Risk: Engage them with retention campaigns to prevent churn.\n",
        "1. Lost Customers: Launch win-back campaigns to re-engage with these customers.\n",
        "Remember that RFM analysis is a valuable tool for understanding customer behavior, and the segments and actions can be further refined based on your specific business goals and data."
      ]
    },
    {
      "cell_type": "markdown",
      "metadata": {
        "id": "joMUmFrkJ2h9"
      },
      "source": []
    }
  ],
  "metadata": {
    "kernelspec": {
      "display_name": "Python 3 (ipykernel)",
      "language": "python",
      "name": "python3"
    },
    "language_info": {
      "codemirror_mode": {
        "name": "ipython",
        "version": 3
      },
      "file_extension": ".py",
      "mimetype": "text/x-python",
      "name": "python",
      "nbconvert_exporter": "python",
      "pygments_lexer": "ipython3",
      "version": "3.11.4"
    },
    "colab": {
      "provenance": [],
      "include_colab_link": true
    }
  },
  "nbformat": 4,
  "nbformat_minor": 0
}